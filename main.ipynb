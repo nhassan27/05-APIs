{
 "cells": [
  {
   "cell_type": "code",
   "execution_count": 67,
   "id": "3425e2d0-3df6-4aac-85f5-b38a70d6ee19",
   "metadata": {},
   "outputs": [],
   "source": [
    "# Initial imports\n",
    "\n",
    "import os\n",
    "import requests\n",
    "import pandas as pd\n",
    "from dotenv import load_dotenv\n",
    "import alpaca_trade_api as trade_api\n",
    "import json\n",
    "from datetime import datetime\n",
    "from alpaca_trade_api.rest import REST, TimeFrame\n",
    "# from MCForecastTools import MCSimulation"
   ]
  },
  {
   "cell_type": "code",
   "execution_count": 68,
   "id": "06a94284-d461-44e9-aecb-8ce54954177b",
   "metadata": {},
   "outputs": [
    {
     "data": {
      "text/plain": [
       "True"
      ]
     },
     "execution_count": 68,
     "metadata": {},
     "output_type": "execute_result"
    }
   ],
   "source": [
    "# Load .env enviroment variables\n",
    "\n",
    "load_dotenv()"
   ]
  },
  {
   "cell_type": "code",
   "execution_count": 69,
   "id": "dbecf220-7734-439c-987a-0789ac23b99e",
   "metadata": {},
   "outputs": [],
   "source": [
    "# Set current amount of crypto assets\n",
    "\n",
    "my_btc = 1.2\n",
    "my_eth = 5.3"
   ]
  },
  {
   "cell_type": "code",
   "execution_count": 70,
   "id": "aed35093-b1ad-44a4-a26c-b85409e05f47",
   "metadata": {},
   "outputs": [],
   "source": [
    "# Crypto API URLs\n",
    "\n",
    "btc_url = \"https://api.alternative.me/v2/ticker/Bitcoin/?convert=CAD\"\n",
    "eth_url = \"https://api.alternative.me/v2/ticker/Ethereum/?convert=CAD\""
   ]
  },
  {
   "cell_type": "code",
   "execution_count": 71,
   "id": "ebe805a5-fd0a-464c-b210-325934b99aab",
   "metadata": {},
   "outputs": [
    {
     "name": "stdout",
     "output_type": "stream",
     "text": [
      "{\n",
      "        \"data\": {\n",
      "                \"1\": {\n",
      "                        \"id\": 1,\n",
      "                        \"name\": \"Bitcoin\",\n",
      "                        \"symbol\": \"BTC\",\n",
      "                        \"website_slug\": \"bitcoin\",\n",
      "                        \"rank\": 1,\n",
      "                        \"circulating_supply\": 18991175,\n",
      "                        \"total_supply\": 18991175,\n",
      "                        \"max_supply\": 21000000,\n",
      "                        \"quotes\": {\n",
      "                                \"USD\": {\n",
      "                                        \"price\": 42214.0,\n",
      "                                        \"volume_24h\": 28791679446,\n",
      "                                        \"market_cap\": 800282014631,\n",
      "                                        \"percentage_change_1h\": -0.557751980588446,\n",
      "                                        \"percentage_change_24h\": 2.55642244910995,\n",
      "                                        \"percentage_change_7d\": 7.32897941412977,\n",
      "                                        \"percent_change_1h\": -0.557751980588446,\n",
      "                                        \"percent_change_24h\": 2.55642244910995,\n",
      "                                        \"percent_change_7d\": 7.32897941412977\n",
      "                                },\n",
      "                                \"CAD\": {\n",
      "                                        \"price\": 53117.8762,\n",
      "                                        \"volume_24h\": 36228570246.9018,\n",
      "                                        \"market_cap\": 1006994859010.19,\n",
      "                                        \"percent_change_1h\": -0.557751980588446,\n",
      "                                        \"percent_change_24h\": 2.55642244910995,\n",
      "                                        \"percent_change_7d\": 7.32897941412977\n",
      "                                }\n",
      "                        },\n",
      "                        \"last_updated\": 1647998355\n",
      "                }\n",
      "        },\n",
      "        \"metadata\": {\n",
      "                \"timestamp\": 1647998355,\n",
      "                \"num_cryptocurrencies\": 3105,\n",
      "                \"error\": null\n",
      "        }\n",
      "}\n"
     ]
    }
   ],
   "source": [
    "response_btc = requests.get(btc_url).json()\n",
    "print(json.dumps(response_btc, indent=8))"
   ]
  },
  {
   "cell_type": "code",
   "execution_count": 72,
   "id": "362fdacb-e25c-4439-9d37-f9b735d81d0b",
   "metadata": {},
   "outputs": [
    {
     "name": "stdout",
     "output_type": "stream",
     "text": [
      "53117.8762\n"
     ]
    }
   ],
   "source": [
    "# Fetch current BTC price\n",
    "\n",
    "price_btc = response_btc[\"data\"]['1']['quotes']['CAD']['price']\n",
    "print(price_btc)"
   ]
  },
  {
   "cell_type": "code",
   "execution_count": 73,
   "id": "0e187c1a-0702-46d5-9ce3-4ffb344b1656",
   "metadata": {},
   "outputs": [
    {
     "name": "stdout",
     "output_type": "stream",
     "text": [
      "{\n",
      "        \"data\": {\n",
      "                \"1027\": {\n",
      "                        \"id\": 1027,\n",
      "                        \"name\": \"Ethereum\",\n",
      "                        \"symbol\": \"ETH\",\n",
      "                        \"website_slug\": \"ethereum\",\n",
      "                        \"rank\": 2,\n",
      "                        \"circulating_supply\": 120071441,\n",
      "                        \"total_supply\": 120071441,\n",
      "                        \"max_supply\": 0,\n",
      "                        \"quotes\": {\n",
      "                                \"USD\": {\n",
      "                                        \"price\": 2951.36,\n",
      "                                        \"volume_24h\": 15955282090,\n",
      "                                        \"market_cap\": 353661929461,\n",
      "                                        \"percentage_change_1h\": -0.857738138813024,\n",
      "                                        \"percentage_change_24h\": 1.47232302071106,\n",
      "                                        \"percentage_change_7d\": 12.6318431645137,\n",
      "                                        \"percent_change_1h\": -0.857738138813024,\n",
      "                                        \"percent_change_24h\": 1.47232302071106,\n",
      "                                        \"percent_change_7d\": 12.6318431645137\n",
      "                                },\n",
      "                                \"CAD\": {\n",
      "                                        \"price\": 3713.696288,\n",
      "                                        \"volume_24h\": 20076531453.847,\n",
      "                                        \"market_cap\": 445012805840.776,\n",
      "                                        \"percent_change_1h\": -0.857738138813024,\n",
      "                                        \"percent_change_24h\": 1.47232302071106,\n",
      "                                        \"percent_change_7d\": 12.6318431645137\n",
      "                                }\n",
      "                        },\n",
      "                        \"last_updated\": 1647998254\n",
      "                }\n",
      "        },\n",
      "        \"metadata\": {\n",
      "                \"timestamp\": 1647998254,\n",
      "                \"num_cryptocurrencies\": 3105,\n",
      "                \"error\": null\n",
      "        }\n",
      "}\n"
     ]
    }
   ],
   "source": [
    "response_eth = requests.get(eth_url).json()\n",
    "print(json.dumps(response_eth, indent=8))"
   ]
  },
  {
   "cell_type": "code",
   "execution_count": 74,
   "id": "78b01eb1-5796-48c2-bb9b-c4f2c0c805df",
   "metadata": {},
   "outputs": [
    {
     "name": "stdout",
     "output_type": "stream",
     "text": [
      "3713.696288\n"
     ]
    }
   ],
   "source": [
    "# Fetch current ETH price\n",
    "\n",
    "price_eth = response_eth[\"data\"]['1027']['quotes']['CAD']['price']\n",
    "print(price_eth)"
   ]
  },
  {
   "cell_type": "code",
   "execution_count": 96,
   "id": "fb1aaa96-841d-4dab-8cb7-3fde63fbce23",
   "metadata": {},
   "outputs": [],
   "source": [
    "# Compute current value of my crypto\n",
    "\n",
    "my_btc_value = price_btc * my_btc\n",
    "my_eth_value = price_eth * my_eth\n",
    "\n",
    "total_crypto_value = my_btc_value + my_eth_value"
   ]
  },
  {
   "cell_type": "code",
   "execution_count": 97,
   "id": "a628f66e-fa99-4514-bc13-21b08c916432",
   "metadata": {},
   "outputs": [
    {
     "name": "stdout",
     "output_type": "stream",
     "text": [
      "The current value of your 1.2 BTC is $63741.45\n",
      "The current value of your 5.3 ETH is $19682.59\n",
      "The current value of your crypto is $83424.04\n"
     ]
    }
   ],
   "source": [
    "# Print current crypto wallet balance\n",
    "\n",
    "print(f\"The current value of your {my_btc} BTC is ${my_btc_value:0.2f}\")\n",
    "print(f\"The current value of your {my_eth} ETH is ${my_eth_value:0.2f}\")\n",
    "print(f\"The current value of your crypto is ${total_crypto_value:0.2f}\")"
   ]
  },
  {
   "cell_type": "code",
   "execution_count": 98,
   "id": "8c492eb1-98b5-47b9-a4ed-7a16b563be30",
   "metadata": {},
   "outputs": [],
   "source": [
    "# Collect Investments Data Using Alpaca: SPY (stocks) and AGG (bonds)\n",
    "\n",
    "# Set current amount of shares\n",
    "my_agg = 200\n",
    "my_spy = 50"
   ]
  },
  {
   "cell_type": "code",
   "execution_count": 99,
   "id": "b45cfba2-bc2a-4942-8819-b7f6eb3140eb",
   "metadata": {},
   "outputs": [],
   "source": [
    "# Set Alpaca API key and secret\n",
    "\n",
    "alpaca_api_key = os.getenv('ALPACA_API_KEY')\n",
    "# alpaca_api_key\n",
    "alpaca_secret_key = os.getenv('ALPACA_SECRET_KEY')\n",
    "# alpaca_secret_key"
   ]
  },
  {
   "cell_type": "code",
   "execution_count": 100,
   "id": "66040064-1a81-4ada-bb17-5e49692215b9",
   "metadata": {},
   "outputs": [],
   "source": [
    "# Create the Alpaca API object\n",
    "\n",
    "alpaca=trade_api.REST(alpaca_api_key, alpaca_secret_key, api_version='v2')"
   ]
  },
  {
   "cell_type": "code",
   "execution_count": 101,
   "id": "28703842-a4c6-46a1-9983-6a38d9225151",
   "metadata": {},
   "outputs": [],
   "source": [
    "# Set the tickers\n",
    "\n",
    "tickers = ['AGG','SPY']"
   ]
  },
  {
   "cell_type": "code",
   "execution_count": 102,
   "id": "09a56105-d059-407d-847b-3b4512804bad",
   "metadata": {},
   "outputs": [
    {
     "data": {
      "text/html": [
       "<div>\n",
       "<style scoped>\n",
       "    .dataframe tbody tr th:only-of-type {\n",
       "        vertical-align: middle;\n",
       "    }\n",
       "\n",
       "    .dataframe tbody tr th {\n",
       "        vertical-align: top;\n",
       "    }\n",
       "\n",
       "    .dataframe thead th {\n",
       "        text-align: right;\n",
       "    }\n",
       "</style>\n",
       "<table border=\"1\" class=\"dataframe\">\n",
       "  <thead>\n",
       "    <tr style=\"text-align: right;\">\n",
       "      <th></th>\n",
       "      <th>open</th>\n",
       "      <th>high</th>\n",
       "      <th>low</th>\n",
       "      <th>close</th>\n",
       "      <th>volume</th>\n",
       "      <th>trade_count</th>\n",
       "      <th>vwap</th>\n",
       "      <th>symbol</th>\n",
       "    </tr>\n",
       "    <tr>\n",
       "      <th>timestamp</th>\n",
       "      <th></th>\n",
       "      <th></th>\n",
       "      <th></th>\n",
       "      <th></th>\n",
       "      <th></th>\n",
       "      <th></th>\n",
       "      <th></th>\n",
       "      <th></th>\n",
       "    </tr>\n",
       "  </thead>\n",
       "  <tbody>\n",
       "    <tr>\n",
       "      <th>2022-03-21 04:00:00+00:00</th>\n",
       "      <td>107.58</td>\n",
       "      <td>107.649</td>\n",
       "      <td>106.9841</td>\n",
       "      <td>107.04</td>\n",
       "      <td>7583668</td>\n",
       "      <td>27316</td>\n",
       "      <td>107.310151</td>\n",
       "      <td>AGG</td>\n",
       "    </tr>\n",
       "    <tr>\n",
       "      <th>2022-03-21 04:00:00+00:00</th>\n",
       "      <td>444.45</td>\n",
       "      <td>446.460</td>\n",
       "      <td>440.6800</td>\n",
       "      <td>444.30</td>\n",
       "      <td>85377983</td>\n",
       "      <td>912432</td>\n",
       "      <td>443.796432</td>\n",
       "      <td>SPY</td>\n",
       "    </tr>\n",
       "  </tbody>\n",
       "</table>\n",
       "</div>"
      ],
      "text/plain": [
       "                             open     high       low   close    volume  \\\n",
       "timestamp                                                                \n",
       "2022-03-21 04:00:00+00:00  107.58  107.649  106.9841  107.04   7583668   \n",
       "2022-03-21 04:00:00+00:00  444.45  446.460  440.6800  444.30  85377983   \n",
       "\n",
       "                           trade_count        vwap symbol  \n",
       "timestamp                                                  \n",
       "2022-03-21 04:00:00+00:00        27316  107.310151    AGG  \n",
       "2022-03-21 04:00:00+00:00       912432  443.796432    SPY  "
      ]
     },
     "execution_count": 102,
     "metadata": {},
     "output_type": "execute_result"
    }
   ],
   "source": [
    "today = \"2022-03-21\"\n",
    "alpaca_df = alpaca.get_bars(tickers, TimeFrame.Day, today, today, adjustment='raw').df\n",
    "alpaca_df"
   ]
  },
  {
   "cell_type": "code",
   "execution_count": 103,
   "id": "00219768-f458-42f6-82dc-a5a0234f3382",
   "metadata": {},
   "outputs": [
    {
     "name": "stdout",
     "output_type": "stream",
     "text": [
      "Current AGG closing price: $107.04\n",
      "Current SPY closing price: $444.3\n"
     ]
    }
   ],
   "source": [
    "# Pick AGG and SPY close prices\n",
    "\n",
    "agg_close_price = alpaca_df.iloc[0, 3]\n",
    "spy_close_price = alpaca_df.iloc[1, 3]\n",
    "\n",
    "# Print AGG and SPY close prices\n",
    "print(f\"Current AGG closing price: ${agg_close_price}\")\n",
    "print(f\"Current SPY closing price: ${spy_close_price}\")"
   ]
  },
  {
   "cell_type": "code",
   "execution_count": 104,
   "id": "5bfaf8dd-c755-41b3-8d6a-ef90bf6c3bba",
   "metadata": {},
   "outputs": [
    {
     "name": "stdout",
     "output_type": "stream",
     "text": [
      "The current value of your 200 AGG shares is $21408.00\n",
      "The current value of your 50 SPY shares is $22215.00\n",
      "The current value of your shares is $43623.00\n"
     ]
    }
   ],
   "source": [
    "# Compute the current value of shares\n",
    "\n",
    "my_agg_value = my_agg * agg_close_price\n",
    "my_spy_value = my_spy * spy_close_price\n",
    "total_shares_value = my_agg_value + my_spy_value\n",
    "\n",
    "# Print current value of shares\n",
    "print(f\"The current value of your {my_agg} AGG shares is ${my_agg_value:0.2f}\")\n",
    "print(f\"The current value of your {my_spy} SPY shares is ${my_spy_value:0.2f}\")\n",
    "print(f\"The current value of your shares is ${total_shares_value:0.2f}\")\n"
   ]
  },
  {
   "cell_type": "code",
   "execution_count": 109,
   "id": "ee757609-f660-4eb9-b2a5-e1c3bd50df7a",
   "metadata": {},
   "outputs": [
    {
     "data": {
      "text/html": [
       "<div>\n",
       "<style scoped>\n",
       "    .dataframe tbody tr th:only-of-type {\n",
       "        vertical-align: middle;\n",
       "    }\n",
       "\n",
       "    .dataframe tbody tr th {\n",
       "        vertical-align: top;\n",
       "    }\n",
       "\n",
       "    .dataframe thead th {\n",
       "        text-align: right;\n",
       "    }\n",
       "</style>\n",
       "<table border=\"1\" class=\"dataframe\">\n",
       "  <thead>\n",
       "    <tr style=\"text-align: right;\">\n",
       "      <th></th>\n",
       "      <th>amount</th>\n",
       "    </tr>\n",
       "  </thead>\n",
       "  <tbody>\n",
       "    <tr>\n",
       "      <th>crypto</th>\n",
       "      <td>83424.041766</td>\n",
       "    </tr>\n",
       "    <tr>\n",
       "      <th>shares</th>\n",
       "      <td>43623.000000</td>\n",
       "    </tr>\n",
       "  </tbody>\n",
       "</table>\n",
       "</div>"
      ],
      "text/plain": [
       "              amount\n",
       "crypto  83424.041766\n",
       "shares  43623.000000"
      ]
     },
     "metadata": {},
     "output_type": "display_data"
    }
   ],
   "source": [
    "# Savings Health Analysis\n",
    "\n",
    "# Set monthly household income\n",
    "monthly_income = 12000\n",
    "\n",
    "# Consolidate financial assets data\n",
    "d = {'amount': [total_crypto_value, total_shares_value]}\n",
    "df_savings = pd.DataFrame(data=d, index=['crypto', 'shares'])\n",
    "\n",
    "# Display savings DataFrame\n",
    "display(df_savings)"
   ]
  },
  {
   "cell_type": "code",
   "execution_count": 110,
   "id": "225f90b4-5850-4e7d-a978-3418a99af51c",
   "metadata": {},
   "outputs": [
    {
     "data": {
      "text/plain": [
       "<AxesSubplot:title={'center':'Composition of Personal Savings'}, ylabel='amount'>"
      ]
     },
     "execution_count": 110,
     "metadata": {},
     "output_type": "execute_result"
    },
    {
     "data": {
      "image/png": "[encoded data removed]",
      "text/plain": [
       "<Figure size 432x288 with 1 Axes>"
      ]
     },
     "metadata": {},
     "output_type": "display_data"
    }
   ],
   "source": [
    "df_savings.plot.pie(y='amount', title='Composition of Personal Savings')"
   ]
  },
  {
   "cell_type": "code",
   "execution_count": 111,
   "id": "ee5a91f7-c4db-4100-8609-ccd8c751c3b2",
   "metadata": {},
   "outputs": [
    {
     "name": "stdout",
     "output_type": "stream",
     "text": [
      "Congratulations! You have enough money in your emergency fund.\n"
     ]
    }
   ],
   "source": [
    "# Set ideal emergency fund\n",
    "emergency_fund = monthly_income * 3\n",
    "\n",
    "# Calculate total amount of savings\n",
    "\n",
    "total_savings = monthly_income + total_crypto_value + total_shares_value\n",
    "\n",
    "# Validate saving health\n",
    "if total_savings > emergency_fund:\n",
    "    print(\"Congratulations! You have enough money in your emergency fund.\")\n",
    "elif total_savings == emergency_fund:\n",
    "    print(\"Congratulations! You have reached your financial goal.\")\n",
    "else:\n",
    "    print(f\"You are ${emergency_fund - total_savings} short of achieving your financial goal\")"
   ]
  },
  {
   "cell_type": "code",
   "execution_count": null,
   "id": "3560dfe7-fb51-4da2-adec-4c7ce081ba6a",
   "metadata": {},
   "outputs": [],
   "source": []
  }
 ],
 "metadata": {
  "kernelspec": {
   "display_name": "Python 3 (ipykernel)",
   "language": "python",
   "name": "python3"
  },
  "language_info": {
   "codemirror_mode": {
    "name": "ipython",
    "version": 3
   },
   "file_extension": ".py",
   "mimetype": "text/x-python",
   "name": "python",
   "nbconvert_exporter": "python",
   "pygments_lexer": "ipython3",
   "version": "3.9.7"
  }
 },
 "nbformat": 4,
 "nbformat_minor": 5
}
